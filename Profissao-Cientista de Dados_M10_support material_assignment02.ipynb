{
 "cells": [
  {
   "cell_type": "markdown",
   "metadata": {},
   "source": [
    "# Módulo 10 tarefa 2\n",
    "\n",
    "Considere a mesma base de dados utilizada na tarefa 1 ```previsao_de_renda.csv```."
   ]
  },
  {
   "cell_type": "markdown",
   "metadata": {},
   "source": [
    "1) Com o que você viu em aula, faça uma análise das variáveis qualitativas (posse de imóvel e posse de veículo) para verificar se são boas preditoras de *renda*. Alguma delas parece discriminar *renda* de forma estatisticamente significante?"
   ]
  },
  {
   "cell_type": "code",
   "execution_count": 2,
   "metadata": {},
   "outputs": [
    {
     "name": "stdout",
     "output_type": "stream",
     "text": [
      "Collecting statsmodels\n",
      "  Downloading statsmodels-0.14.0-cp311-cp311-win_amd64.whl (9.2 MB)\n",
      "     ---------------------------------------- 0.0/9.2 MB ? eta -:--:--\n",
      "     - -------------------------------------- 0.3/9.2 MB 5.1 MB/s eta 0:00:02\n",
      "     --------- ------------------------------ 2.3/9.2 MB 6.0 MB/s eta 0:00:02\n",
      "     ------------- -------------------------- 3.2/9.2 MB 3.3 MB/s eta 0:00:02\n",
      "     -------------- ------------------------- 3.3/9.2 MB 3.0 MB/s eta 0:00:02\n",
      "     ---------------- ----------------------- 3.8/9.2 MB 3.3 MB/s eta 0:00:02\n",
      "     ----------------- ---------------------- 4.1/9.2 MB 3.3 MB/s eta 0:00:02\n",
      "     ------------------- -------------------- 4.4/9.2 MB 3.4 MB/s eta 0:00:02\n",
      "     --------------------- ------------------ 4.9/9.2 MB 3.5 MB/s eta 0:00:02\n",
      "     ------------------------ --------------- 5.7/9.2 MB 3.9 MB/s eta 0:00:01\n",
      "     --------------------------- ------------ 6.3/9.2 MB 4.1 MB/s eta 0:00:01\n",
      "     ------------------------------ --------- 7.0/9.2 MB 4.4 MB/s eta 0:00:01\n",
      "     -------------------------------- ------- 7.4/9.2 MB 4.6 MB/s eta 0:00:01\n",
      "     --------------------------------- ------ 7.8/9.2 MB 4.6 MB/s eta 0:00:01\n",
      "     ------------------------------------ --- 8.4/9.2 MB 4.9 MB/s eta 0:00:01\n",
      "     -------------------------------------- - 8.8/9.2 MB 4.9 MB/s eta 0:00:01\n",
      "     ---------------------------------------  9.2/9.2 MB 4.9 MB/s eta 0:00:01\n",
      "     ---------------------------------------  9.2/9.2 MB 4.9 MB/s eta 0:00:01\n",
      "     ---------------------------------------  9.2/9.2 MB 4.9 MB/s eta 0:00:01\n",
      "     ---------------------------------------  9.2/9.2 MB 4.9 MB/s eta 0:00:01\n",
      "     ---------------------------------------  9.2/9.2 MB 4.9 MB/s eta 0:00:01\n",
      "     ---------------------------------------  9.2/9.2 MB 4.9 MB/s eta 0:00:01\n",
      "     ---------------------------------------  9.2/9.2 MB 4.9 MB/s eta 0:00:01\n",
      "     ---------------------------------------  9.2/9.2 MB 4.9 MB/s eta 0:00:01\n",
      "     ---------------------------------------  9.2/9.2 MB 4.9 MB/s eta 0:00:01\n",
      "     ---------------------------------------  9.2/9.2 MB 4.9 MB/s eta 0:00:01\n",
      "     ---------------------------------------  9.2/9.2 MB 4.9 MB/s eta 0:00:01\n",
      "     ---------------------------------------  9.2/9.2 MB 4.9 MB/s eta 0:00:01\n",
      "     ---------------------------------------  9.2/9.2 MB 4.9 MB/s eta 0:00:01\n",
      "     ---------------------------------------  9.2/9.2 MB 4.9 MB/s eta 0:00:01\n",
      "     ---------------------------------------  9.2/9.2 MB 4.9 MB/s eta 0:00:01\n",
      "     ---------------------------------------  9.2/9.2 MB 4.9 MB/s eta 0:00:01\n",
      "     ---------------------------------------  9.2/9.2 MB 4.9 MB/s eta 0:00:01\n",
      "     ---------------------------------------  9.2/9.2 MB 4.9 MB/s eta 0:00:01\n",
      "     ---------------------------------------  9.2/9.2 MB 4.9 MB/s eta 0:00:01\n",
      "     ---------------------------------------  9.2/9.2 MB 4.9 MB/s eta 0:00:01\n",
      "     ---------------------------------------  9.2/9.2 MB 4.9 MB/s eta 0:00:01\n",
      "     ---------------------------------------  9.2/9.2 MB 4.9 MB/s eta 0:00:01\n",
      "     ---------------------------------------  9.2/9.2 MB 4.9 MB/s eta 0:00:01\n",
      "     ---------------------------------------- 9.2/9.2 MB 2.9 MB/s eta 0:00:00\n",
      "Requirement already satisfied: numpy>=1.18 in c:\\users\\jaime\\appdata\\local\\packages\\pythonsoftwarefoundation.python.3.11_qbz5n2kfra8p0\\localcache\\local-packages\\python311\\site-packages (from statsmodels) (1.24.3)\n",
      "Requirement already satisfied: scipy!=1.9.2,>=1.4 in c:\\users\\jaime\\appdata\\local\\packages\\pythonsoftwarefoundation.python.3.11_qbz5n2kfra8p0\\localcache\\local-packages\\python311\\site-packages (from statsmodels) (1.11.4)\n",
      "Requirement already satisfied: pandas>=1.0 in c:\\users\\jaime\\appdata\\local\\packages\\pythonsoftwarefoundation.python.3.11_qbz5n2kfra8p0\\localcache\\local-packages\\python311\\site-packages (from statsmodels) (2.0.1)\n",
      "Collecting patsy>=0.5.2 (from statsmodels)\n",
      "  Obtaining dependency information for patsy>=0.5.2 from https://files.pythonhosted.org/packages/29/ab/373449d6f741732f94e2d15d116a90f050b2857cb727b26d2f7bead50815/patsy-0.5.4-py2.py3-none-any.whl.metadata\n",
      "  Downloading patsy-0.5.4-py2.py3-none-any.whl.metadata (3.4 kB)\n",
      "Requirement already satisfied: packaging>=21.3 in c:\\users\\jaime\\appdata\\local\\packages\\pythonsoftwarefoundation.python.3.11_qbz5n2kfra8p0\\localcache\\local-packages\\python311\\site-packages (from statsmodels) (23.1)\n",
      "Requirement already satisfied: python-dateutil>=2.8.2 in c:\\users\\jaime\\appdata\\local\\packages\\pythonsoftwarefoundation.python.3.11_qbz5n2kfra8p0\\localcache\\local-packages\\python311\\site-packages (from pandas>=1.0->statsmodels) (2.8.2)\n",
      "Requirement already satisfied: pytz>=2020.1 in c:\\users\\jaime\\appdata\\local\\packages\\pythonsoftwarefoundation.python.3.11_qbz5n2kfra8p0\\localcache\\local-packages\\python311\\site-packages (from pandas>=1.0->statsmodels) (2023.3)\n",
      "Requirement already satisfied: tzdata>=2022.1 in c:\\users\\jaime\\appdata\\local\\packages\\pythonsoftwarefoundation.python.3.11_qbz5n2kfra8p0\\localcache\\local-packages\\python311\\site-packages (from pandas>=1.0->statsmodels) (2023.3)\n",
      "Requirement already satisfied: six in c:\\users\\jaime\\appdata\\local\\packages\\pythonsoftwarefoundation.python.3.11_qbz5n2kfra8p0\\localcache\\local-packages\\python311\\site-packages (from patsy>=0.5.2->statsmodels) (1.16.0)\n",
      "Downloading patsy-0.5.4-py2.py3-none-any.whl (233 kB)\n",
      "   ---------------------------------------- 0.0/233.9 kB ? eta -:--:--\n",
      "   ------------------------------------- - 225.3/233.9 kB 13.4 MB/s eta 0:00:01\n",
      "   ------------------------------------- - 225.3/233.9 kB 13.4 MB/s eta 0:00:01\n",
      "   ---------------------------------------- 233.9/233.9 kB 2.4 MB/s eta 0:00:00\n",
      "Installing collected packages: patsy, statsmodels\n",
      "Successfully installed patsy-0.5.4 statsmodels-0.14.0\n"
     ]
    },
    {
     "name": "stderr",
     "output_type": "stream",
     "text": [
      "\n",
      "[notice] A new release of pip is available: 23.2.1 -> 23.3.1\n",
      "[notice] To update, run: C:\\Users\\Jaime\\AppData\\Local\\Microsoft\\WindowsApps\\PythonSoftwareFoundation.Python.3.11_qbz5n2kfra8p0\\python.exe -m pip install --upgrade pip\n"
     ]
    }
   ],
   "source": [
    "!pip install statsmodels\n"
   ]
  },
  {
   "cell_type": "code",
   "execution_count": 3,
   "metadata": {},
   "outputs": [],
   "source": [
    "import pandas as pd\n",
    "\n",
    "import scipy.stats as stats\n",
    "\n",
    "import numpy as np\n",
    "\n",
    "import statsmodels.api as sm\n",
    "\n",
    "from scipy.stats import ttest_ind\n",
    "\n",
    "from statsmodels.formula.api import ols\n",
    "\n",
    "from scipy.stats import ks_2samp\n",
    "\n",
    "from scipy.stats import chi2_contingency"
   ]
  },
  {
   "cell_type": "code",
   "execution_count": 4,
   "metadata": {},
   "outputs": [
    {
     "name": "stdout",
     "output_type": "stream",
     "text": [
      "Estatísticas descritivas da renda para quem possui imóvel:\n",
      "count    10082.000000\n",
      "mean      4721.052704\n",
      "std       4654.266817\n",
      "min        159.900000\n",
      "25%       2012.237500\n",
      "50%       3341.200000\n",
      "75%       5726.260000\n",
      "max      89918.040000\n",
      "Name: renda, dtype: float64\n",
      "\n",
      "Estatísticas descritivas da renda para quem NÃO possui imóvel:\n",
      "count     4918.000000\n",
      "mean      4426.970482\n",
      "std       4569.558384\n",
      "min        260.680000\n",
      "25%       1822.440000\n",
      "50%       3135.080000\n",
      "75%       5405.255000\n",
      "max      67794.540000\n",
      "Name: renda, dtype: float64\n",
      "\n",
      "Estatísticas descritivas da renda para quem possui veículo:\n",
      "count     5833.000000\n",
      "mean      4992.579609\n",
      "std       4732.823337\n",
      "min        187.690000\n",
      "25%       2143.410000\n",
      "50%       3564.430000\n",
      "75%       6086.560000\n",
      "max      67794.540000\n",
      "Name: renda, dtype: float64\n",
      "\n",
      "Estatísticas descritivas da renda para quem NÃO possui veículo:\n",
      "count     9167.000000\n",
      "mean      4390.506963\n",
      "std       4545.776180\n",
      "min        159.900000\n",
      "25%       1825.390000\n",
      "50%       3084.090000\n",
      "75%       5306.360000\n",
      "max      89918.040000\n",
      "Name: renda, dtype: float64\n",
      "\n",
      "Teste de hipótese - Possui imóvel vs. Não possui imóvel:\n",
      "T-statistic: 3.677635545954218\n",
      "P-value: 0.00023665092205816239\n",
      "\n",
      "Teste de hipótese - Possui veículo vs. Não possui veículo:\n",
      "T-statistic: 7.712332220715903\n",
      "P-value: 1.3324346963629964e-14\n"
     ]
    }
   ],
   "source": [
    "# Carregando arquivo CSV em um dataframe\n",
    "df = pd.read_csv('previsao_de_renda.csv')\n",
    "\n",
    "# Comparando estatísticas descritivas da renda entre os grupos que possuem ou não possuem imóvel\n",
    "print(\"Estatísticas descritivas da renda para quem possui imóvel:\")\n",
    "print(df[df['posse_de_imovel'] == True]['renda'].describe())\n",
    "\n",
    "print(\"\\nEstatísticas descritivas da renda para quem NÃO possui imóvel:\")\n",
    "print(df[df['posse_de_imovel'] == False]['renda'].describe())\n",
    "\n",
    "# Comparando estatísticas descritivas da renda entre os grupos que possuem ou não possuem veículo\n",
    "print(\"\\nEstatísticas descritivas da renda para quem possui veículo:\")\n",
    "print(df[df['posse_de_veiculo'] == True]['renda'].describe())\n",
    "\n",
    "print(\"\\nEstatísticas descritivas da renda para quem NÃO possui veículo:\")\n",
    "print(df[df['posse_de_veiculo'] == False]['renda'].describe())\n",
    "\n",
    "# Teste de hipótese para verificar se há diferença significativa na renda entre os grupos que possuem ou não imóvel\n",
    "print(\"\\nTeste de hipótese - Possui imóvel vs. Não possui imóvel:\")\n",
    "t_stat_imovel, p_value_imovel = stats.ttest_ind(df[df['posse_de_imovel'] == True]['renda'],\n",
    "                                               df[df['posse_de_imovel'] == False]['renda'], equal_var=False)\n",
    "print(\"T-statistic:\", t_stat_imovel)\n",
    "print(\"P-value:\", p_value_imovel)\n",
    "\n",
    "# Teste de hipótese para verificar se há diferença significativa na renda entre os grupos que possuem ou não veículo\n",
    "print(\"\\nTeste de hipótese - Possui veículo vs. Não possui veículo:\")\n",
    "t_stat_veiculo, p_value_veiculo = stats.ttest_ind(df[df['posse_de_veiculo'] == True]['renda'],\n",
    "                                                 df[df['posse_de_veiculo'] == False]['renda'], equal_var=False)\n",
    "print(\"T-statistic:\", t_stat_veiculo)\n",
    "print(\"P-value:\", p_value_veiculo)"
   ]
  },
  {
   "cell_type": "code",
   "execution_count": 7,
   "metadata": {},
   "outputs": [
    {
     "name": "stdout",
     "output_type": "stream",
     "text": [
      "Teste de Kolmogorov-Smirnov - Possui imóvel vs. Não possui imóvel:\n",
      "KS Statistic: 0.04781688890423458\n",
      "P-value: 5.231142781594604e-07\n",
      "\n",
      "Teste de Kolmogorov-Smirnov - Possui veículo vs. Não possui veículo:\n",
      "KS Statistic: 0.0788145209849857\n",
      "P-value: 1.0452774185026768e-19\n"
     ]
    }
   ],
   "source": [
    "# Teste de Kolmogorov-Smirnov para posse de imóvel\n",
    "ks_stat_imovel, p_value_imovel = ks_2samp(df[df['posse_de_imovel'] == True]['renda'],\n",
    "                                          df[df['posse_de_imovel'] == False]['renda'])\n",
    "print(\"Teste de Kolmogorov-Smirnov - Possui imóvel vs. Não possui imóvel:\")\n",
    "print(\"KS Statistic:\", ks_stat_imovel)\n",
    "print(\"P-value:\", p_value_imovel)\n",
    "\n",
    "# Teste de Kolmogorov-Smirnov para posse de veículo\n",
    "ks_stat_veiculo, p_value_veiculo = ks_2samp(df[df['posse_de_veiculo'] == True]['renda'],\n",
    "                                            df[df['posse_de_veiculo'] == False]['renda'])\n",
    "print(\"\\nTeste de Kolmogorov-Smirnov - Possui veículo vs. Não possui veículo:\")\n",
    "print(\"KS Statistic:\", ks_stat_veiculo)\n",
    "print(\"P-value:\", p_value_veiculo)\n",
    "# Teste de Kolmogorov-Smirnov - Possui imóvel vs. Não possui imóvel:\n",
    "\n"
   ]
  },
  {
   "cell_type": "code",
   "execution_count": 9,
   "metadata": {},
   "outputs": [
    {
     "name": "stdout",
     "output_type": "stream",
     "text": [
      "Análise de Variância (ANOVA) - Posse de Imóvel:\n",
      "                       sum_sq       df          F    PR(>F)\n",
      "posse_de_imovel  2.858785e+08      1.0  13.355037  0.000259\n",
      "Residual         3.210478e+11  14998.0        NaN       NaN\n",
      "\n",
      "Análise de Variância (ANOVA) - Posse de Veículo:\n",
      "                        sum_sq       df          F        PR(>F)\n",
      "posse_de_veiculo  1.292188e+09      1.0  60.555382  7.618602e-15\n",
      "Residual          3.200415e+11  14998.0        NaN           NaN\n"
     ]
    }
   ],
   "source": [
    "# Análise de Variância (ANOVA) para posse de imóvel\n",
    "model_imovel = ols('renda ~ posse_de_imovel', data=df).fit()\n",
    "anova_table_imovel = sm.stats.anova_lm(model_imovel, typ=2)\n",
    "print(\"Análise de Variância (ANOVA) - Posse de Imóvel:\")\n",
    "print(anova_table_imovel)\n",
    "\n",
    "# Análise de Variância (ANOVA) para posse de veículo\n",
    "model_veiculo = ols('renda ~ posse_de_veiculo', data=df).fit()\n",
    "anova_table_veiculo = sm.stats.anova_lm(model_veiculo, typ=2)\n",
    "print(\"\\nAnálise de Variância (ANOVA) - Posse de Veículo:\")\n",
    "print(anova_table_veiculo)"
   ]
  },
  {
   "cell_type": "code",
   "execution_count": 11,
   "metadata": {},
   "outputs": [
    {
     "name": "stdout",
     "output_type": "stream",
     "text": [
      "Teste Qui-Quadrado - Posse de Imóvel vs. Estado Civil:\n",
      "Chi2 Statistic: 47.759674426956465\n",
      "P-value: 1.059170811233935e-09\n",
      "\n",
      "Teste Qui-Quadrado - Posse de Veículo vs. Estado Civil:\n",
      "Chi2 Statistic: 422.50323046098663\n"
     ]
    }
   ],
   "source": [
    "# Tabela de contingência para posse de imóvel vs. estado civil\n",
    "table_imovel_estado_civil = pd.crosstab(df['posse_de_imovel'], df['estado_civil'])\n",
    "\n",
    "# Teste Qui-Quadrado para posse de imóvel vs. estado civil\n",
    "chi2_stat_imovel, p_value_imovel, dof_imovel, expected_imovel = chi2_contingency(table_imovel_estado_civil)\n",
    "print(\"Teste Qui-Quadrado - Posse de Imóvel vs. Estado Civil:\")\n",
    "print(\"Chi2 Statistic:\", chi2_stat_imovel)\n",
    "print(\"P-value:\", p_value_imovel)\n",
    "\n",
    "# Tabela de contingência para posse de veículo vs. estado civil\n",
    "table_veiculo_estado_civil = pd.crosstab(df['posse_de_veiculo'], df['estado_civil'])\n",
    "\n",
    "# Teste Qui-Quadrado para posse de veículo vs. estado civil\n",
    "chi2_stat_veiculo, p_value_veiculo, dof_veiculo, expected_veiculo = chi2_contingency(table_veiculo_estado_civil)\n",
    "print(\"\\nTeste Qui-Quadrado - Posse de Veículo vs. Estado Civil:\")\n",
    "print(\"Chi2 Statistic:\", chi2_stat_veiculo)"
   ]
  },
  {
   "cell_type": "code",
   "execution_count": 12,
   "metadata": {},
   "outputs": [
    {
     "name": "stdout",
     "output_type": "stream",
     "text": [
      "Estatísticas descritivas da renda para quem possui imóvel:\n",
      "count    10082.000000\n",
      "mean      4721.052704\n",
      "std       4654.266817\n",
      "min        159.900000\n",
      "25%       2012.237500\n",
      "50%       3341.200000\n",
      "75%       5726.260000\n",
      "max      89918.040000\n",
      "Name: renda, dtype: float64\n",
      "\n",
      "Estatísticas descritivas da renda para quem NÃO possui imóvel:\n",
      "count     4918.000000\n",
      "mean      4426.970482\n",
      "std       4569.558384\n",
      "min        260.680000\n",
      "25%       1822.440000\n",
      "50%       3135.080000\n",
      "75%       5405.255000\n",
      "max      67794.540000\n",
      "Name: renda, dtype: float64\n",
      "\n",
      "Teste de hipótese - Possui imóvel vs. Não possui imóvel:\n",
      "T-statistic: 7.429275670824341\n",
      "P-value: 1.1820418577259244e-13\n"
     ]
    }
   ],
   "source": [
    "# Carregando arquivo CSV em um dataframe\n",
    "df = pd.read_csv('previsao_de_renda.csv')\n",
    "\n",
    "# Separando as amostras de renda para quem possui e não possui imóvel\n",
    "renda_possui_imovel = df[df['posse_de_imovel'] == True]['renda']\n",
    "renda_nao_possui_imovel = df[df['posse_de_imovel'] == False]['renda']\n",
    "\n",
    "# Adicionando o aumento de R$ 300 à amostra de renda de quem possui imóvel\n",
    "aumento_renda_possui_imovel = renda_possui_imovel + 300\n",
    "\n",
    "# Realizando o teste de hipótese (teste t de duas amostras)\n",
    "t_statistic, p_value = ttest_ind(aumento_renda_possui_imovel, renda_nao_possui_imovel, equal_var=False)\n",
    "\n",
    "# Imprimindo os resultados\n",
    "print(\"Estatísticas descritivas da renda para quem possui imóvel:\")\n",
    "print(renda_possui_imovel.describe())\n",
    "\n",
    "print(\"\\nEstatísticas descritivas da renda para quem NÃO possui imóvel:\")\n",
    "print(renda_nao_possui_imovel.describe())\n",
    "\n",
    "print(\"\\nTeste de hipótese - Possui imóvel vs. Não possui imóvel:\")\n",
    "print(\"T-statistic:\", t_statistic)\n",
    "print(\"P-value:\", p_value)"
   ]
  }
 ],
 "metadata": {
  "kernelspec": {
   "display_name": "Python 3",
   "language": "python",
   "name": "python3"
  },
  "language_info": {
   "codemirror_mode": {
    "name": "ipython",
    "version": 3
   },
   "file_extension": ".py",
   "mimetype": "text/x-python",
   "name": "python",
   "nbconvert_exporter": "python",
   "pygments_lexer": "ipython3",
   "version": "3.11.6"
  }
 },
 "nbformat": 4,
 "nbformat_minor": 4
}
